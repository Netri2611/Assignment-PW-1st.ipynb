{
  "nbformat": 4,
  "nbformat_minor": 0,
  "metadata": {
    "colab": {
      "provenance": []
    },
    "kernelspec": {
      "name": "python3",
      "display_name": "Python 3"
    },
    "language_info": {
      "name": "python"
    }
  },
  "cells": [
    {
      "cell_type": "code",
      "execution_count": null,
      "metadata": {
        "colab": {
          "base_uri": "https://localhost:8080/"
        },
        "id": "2KswoWIQilh6",
        "outputId": "e869d7b6-f9d5-45f0-c183-8d5dff7b685f"
      },
      "outputs": [
        {
          "output_type": "stream",
          "name": "stdout",
          "text": [
            "Hello, World\n"
          ]
        }
      ],
      "source": [
        "#1. Write a Python program to print \"Hello, World!\"\n",
        "print(\"Hello, World\")"
      ]
    },
    {
      "cell_type": "code",
      "source": [
        "#2. Write a Python program that displays your name and age\n",
        "name =\"Netri Trehan\"\n",
        "age =30\n",
        "print(\"my name is :\", name)\n",
        "print(\"my age is :\", age)"
      ],
      "metadata": {
        "colab": {
          "base_uri": "https://localhost:8080/"
        },
        "id": "h5qNBecrqPD3",
        "outputId": "ab11cb24-894a-4053-8845-bec80b19403b"
      },
      "execution_count": null,
      "outputs": [
        {
          "output_type": "stream",
          "name": "stdout",
          "text": [
            "my name is : Netri Trehan\n",
            "my age is : 30\n"
          ]
        }
      ]
    },
    {
      "cell_type": "code",
      "source": [
        "#3. Write code to print all the pre-defined keywords in Python using the keyword library\n",
        "help(\"keywords\")"
      ],
      "metadata": {
        "colab": {
          "base_uri": "https://localhost:8080/"
        },
        "id": "P16mLuShqvfD",
        "outputId": "d9e17532-780d-4c69-b89d-8bab7765ad6c"
      },
      "execution_count": null,
      "outputs": [
        {
          "output_type": "stream",
          "name": "stdout",
          "text": [
            "\n",
            "Here is a list of the Python keywords.  Enter any keyword to get more help.\n",
            "\n",
            "False               class               from                or\n",
            "None                continue            global              pass\n",
            "True                def                 if                  raise\n",
            "and                 del                 import              return\n",
            "as                  elif                in                  try\n",
            "assert              else                is                  while\n",
            "async               except              lambda              with\n",
            "await               finally             nonlocal            yield\n",
            "break               for                 not                 \n",
            "\n"
          ]
        }
      ]
    },
    {
      "cell_type": "code",
      "source": [
        "#4. Write a program that checks if a given word is a Python keyword.\n",
        "\n",
        "import keyword\n",
        "word = input(\"enter your word: \")\n",
        "if keyword.iskeyword:\n",
        "  print(word, \"is a python keyword\")\n",
        "else:\n",
        "  print(word, \"is not a python keyword\")"
      ],
      "metadata": {
        "colab": {
          "base_uri": "https://localhost:8080/"
        },
        "id": "lfJiXr3IsMXu",
        "outputId": "8a8c6fd9-9965-4bce-d1e7-e1b4cab3aaee"
      },
      "execution_count": null,
      "outputs": [
        {
          "output_type": "stream",
          "name": "stdout",
          "text": [
            "for is a python keyword\n"
          ]
        }
      ]
    },
    {
      "cell_type": "code",
      "source": [
        "#5. Create a list and tuple in Python, and demonstrate how attempting to change an element works differently for each.\n",
        "\n",
        "list = [1, 5, \"netri\", \"cartoon\", 2.6] #indexing placing is 0,1,2,3,4\n",
        "tuples =(1, 5, \"netri\", \"cartoon\", 2.6)\n",
        "\n",
        "list[1] = 10 #changing 5 to 10\n",
        "print(list)\n",
        "\n",
        "tuples[1] = 20\n",
        "print(tuples) # hence we got error - TypeError: 'tuple' object does not support item assignment"
      ],
      "metadata": {
        "colab": {
          "base_uri": "https://localhost:8080/",
          "height": 217
        },
        "id": "gJwMIinFw2hG",
        "outputId": "2222d638-8521-4fdb-d36a-ca030e9b78fd"
      },
      "execution_count": null,
      "outputs": [
        {
          "output_type": "stream",
          "name": "stdout",
          "text": [
            "[1, 10, 'netri', 'cartoon', 2.6]\n"
          ]
        },
        {
          "output_type": "error",
          "ename": "TypeError",
          "evalue": "'tuple' object does not support item assignment",
          "traceback": [
            "\u001b[0;31m---------------------------------------------------------------------------\u001b[0m",
            "\u001b[0;31mTypeError\u001b[0m                                 Traceback (most recent call last)",
            "\u001b[0;32m<ipython-input-5-637a1d781afe>\u001b[0m in \u001b[0;36m<cell line: 0>\u001b[0;34m()\u001b[0m\n\u001b[1;32m      7\u001b[0m \u001b[0mprint\u001b[0m\u001b[0;34m(\u001b[0m\u001b[0mlist\u001b[0m\u001b[0;34m)\u001b[0m\u001b[0;34m\u001b[0m\u001b[0;34m\u001b[0m\u001b[0m\n\u001b[1;32m      8\u001b[0m \u001b[0;34m\u001b[0m\u001b[0m\n\u001b[0;32m----> 9\u001b[0;31m \u001b[0mtuples\u001b[0m\u001b[0;34m[\u001b[0m\u001b[0;36m1\u001b[0m\u001b[0;34m]\u001b[0m \u001b[0;34m=\u001b[0m \u001b[0;36m20\u001b[0m\u001b[0;34m\u001b[0m\u001b[0;34m\u001b[0m\u001b[0m\n\u001b[0m\u001b[1;32m     10\u001b[0m \u001b[0mprint\u001b[0m\u001b[0;34m(\u001b[0m\u001b[0mtuples\u001b[0m\u001b[0;34m)\u001b[0m \u001b[0;31m# hence we got error - TypeError: 'tuple' object does not support item assignment\u001b[0m\u001b[0;34m\u001b[0m\u001b[0;34m\u001b[0m\u001b[0m\n",
            "\u001b[0;31mTypeError\u001b[0m: 'tuple' object does not support item assignment"
          ]
        }
      ]
    },
    {
      "cell_type": "code",
      "source": [
        "#6. Write a function to demonstrate the behavior of mutable and immutable arguments.\n",
        "#mutabilty\n",
        "list_a = [ 4, 6, \"netri\", 4.5, \"icecream\"]\n",
        "list_a[2]"
      ],
      "metadata": {
        "id": "mzBaPNzH1Ptz"
      },
      "execution_count": null,
      "outputs": []
    },
    {
      "cell_type": "code",
      "source": [
        "list_a[2] = \"neha\"\n",
        "list_a #hence we can change or mutable content i.e list is mutable content"
      ],
      "metadata": {
        "id": "4Rr76X4KyXUa"
      },
      "execution_count": null,
      "outputs": []
    },
    {
      "cell_type": "code",
      "source": [
        "#immutable arguements -\n",
        "a =\"icecream\"\n",
        "a[3]"
      ],
      "metadata": {
        "id": "yHfYG0Bd2LOP"
      },
      "execution_count": null,
      "outputs": []
    },
    {
      "cell_type": "code",
      "source": [
        "a[3] = \"p\" # hence  you will get an error, becase string is immutable."
      ],
      "metadata": {
        "id": "nJxN21HZ2Xge"
      },
      "execution_count": null,
      "outputs": []
    },
    {
      "cell_type": "code",
      "source": [
        "#7. Write a program that performs basic arithmetic operations on two user-input numbers.\n",
        "\n",
        "a = float(input(\"enter your first number : \"))\n",
        "b = float(input(\"enter your second number : \"))\n",
        "print( a + b)\n",
        "print( a - b)\n",
        "print( a / b)\n",
        "print( a * b)\n",
        "print( a ** b)\n",
        "print( a % b)"
      ],
      "metadata": {
        "id": "BOUg8qlf2m7W"
      },
      "execution_count": null,
      "outputs": []
    },
    {
      "cell_type": "code",
      "source": [
        "#.8 Write a program to demonstrate the use of logical operators.\n",
        "age = 18\n",
        "id_card = \"yes\"\n",
        "if age >= 18 and id_card == \"yes\":\n",
        "  print(\"you can give vote\")\n",
        "elif age < 18 or id_card == \"no\":\n",
        "  print(\"you can not give vote\")\n",
        "else:\n",
        "  print(\" you are not in list\")\n"
      ],
      "metadata": {
        "id": "MPJeQhsy3Ko8"
      },
      "execution_count": null,
      "outputs": []
    },
    {
      "cell_type": "code",
      "source": [
        "age = 17\n",
        "id_card = \"yes\"\n",
        "if age >= 18 and id_card == \"yes\":\n",
        "  print(\"you can give vote\")\n",
        "elif age < 18 or id_card == \"no\":\n",
        "  print(\"you can not give vote\")\n"
      ],
      "metadata": {
        "id": "YS4aox9JC4cb"
      },
      "execution_count": null,
      "outputs": []
    },
    {
      "cell_type": "code",
      "source": [
        "#9. Write a Python program to convert user input from string to integer, float, and boolean types.\n",
        "age = input(\"enter your age : \")\n",
        "\n",
        "integer =int(age)\n",
        "print(\"integer :\",  integer)\n",
        "float_value = float(age)\n",
        "print(\"float :\", float_value )\n",
        "boolean = bool(age)\n",
        "print(\"boolean :\", boolean )"
      ],
      "metadata": {
        "colab": {
          "base_uri": "https://localhost:8080/"
        },
        "id": "pnlKI3yjDPGN",
        "outputId": "302c5471-669c-4b4c-91d6-17beb2d8ab6f"
      },
      "execution_count": null,
      "outputs": [
        {
          "output_type": "stream",
          "name": "stdout",
          "text": [
            "enter your age : 52\n",
            "integer : 52\n",
            "float : 52.0\n",
            "boolean : True\n"
          ]
        }
      ]
    },
    {
      "cell_type": "code",
      "source": [
        "#example 2\n",
        "marks = input(\"enter your maarks :\")\n",
        "integer = int(marks)\n",
        "print(\"marks in integer :\", integer)\n",
        "float_value = float(marks)\n",
        "print(\"Marks in float:\", float_value)\n",
        "boolean = bool(marks)\n",
        "print (\"marks in boolean :\", boolean)"
      ],
      "metadata": {
        "colab": {
          "base_uri": "https://localhost:8080/"
        },
        "id": "Ycqmwtkci91A",
        "outputId": "5a9dacd1-b8cd-49f5-94de-4396baf3d10f"
      },
      "execution_count": null,
      "outputs": [
        {
          "output_type": "stream",
          "name": "stdout",
          "text": [
            "enter your maarks :99\n",
            "marks in integer : 99\n",
            "Marks in float: 99.0\n",
            "marks in boolean : True\n"
          ]
        }
      ]
    },
    {
      "cell_type": "code",
      "source": [
        "# 10. Write code to demonstrate type casting with list elements.\n",
        "\n",
        "list_b =[1 ,2, 10, 2.5, \"neha\"]\n",
        "list_b[3]"
      ],
      "metadata": {
        "colab": {
          "base_uri": "https://localhost:8080/"
        },
        "id": "LrQokiSJrySO",
        "outputId": "0f9ecdad-746c-49b3-a3b0-dda395a53069"
      },
      "execution_count": null,
      "outputs": [
        {
          "output_type": "execute_result",
          "data": {
            "text/plain": [
              "2.5"
            ]
          },
          "metadata": {},
          "execution_count": 14
        }
      ]
    },
    {
      "cell_type": "code",
      "source": [
        "print(type(3))"
      ],
      "metadata": {
        "colab": {
          "base_uri": "https://localhost:8080/"
        },
        "id": "Q7Gx5s6ru6zd",
        "outputId": "6be975c2-58ab-46c4-a516-34d6cc2a0517"
      },
      "execution_count": null,
      "outputs": [
        {
          "output_type": "stream",
          "name": "stdout",
          "text": [
            "<class 'int'>\n"
          ]
        }
      ]
    },
    {
      "cell_type": "code",
      "source": [
        "a = 3.4\n",
        "type(a)"
      ],
      "metadata": {
        "colab": {
          "base_uri": "https://localhost:8080/"
        },
        "id": "M054_lLFyPLS",
        "outputId": "5b7af0a1-444f-46b7-ab87-e9c1b14aa8be"
      },
      "execution_count": null,
      "outputs": [
        {
          "output_type": "execute_result",
          "data": {
            "text/plain": [
              "float"
            ]
          },
          "metadata": {},
          "execution_count": 19
        }
      ]
    },
    {
      "cell_type": "code",
      "source": [
        "# 11. Write a program that checks if a number is positive, negative, or zero.\n",
        "number = float(input(\"enter a number  :\"))\n",
        "if number > 0 :\n",
        "  print(\"number is postive\")\n",
        "elif number < 0:\n",
        "  print(\"number is negative\")\n",
        "else:\n",
        "  print(\"number is zero\")"
      ],
      "metadata": {
        "colab": {
          "base_uri": "https://localhost:8080/"
        },
        "id": "JG6E3-hZZeai",
        "outputId": "fa464e31-ffe3-46bb-c45c-8816657aa91b"
      },
      "execution_count": null,
      "outputs": [
        {
          "output_type": "stream",
          "name": "stdout",
          "text": [
            "enter a number  :-9\n",
            "number is negative\n"
          ]
        }
      ]
    },
    {
      "cell_type": "code",
      "source": [
        "#12. Write a for loop to print numbers from 1 to 10.\n",
        "for a in range(1, 11):\n",
        "  print(a)\n"
      ],
      "metadata": {
        "colab": {
          "base_uri": "https://localhost:8080/"
        },
        "id": "u8zLl4jTZhxi",
        "outputId": "f004df0a-319d-432c-83e3-4e9cc3213c4d"
      },
      "execution_count": null,
      "outputs": [
        {
          "output_type": "stream",
          "name": "stdout",
          "text": [
            "1\n",
            "2\n",
            "3\n",
            "4\n",
            "5\n",
            "6\n",
            "7\n",
            "8\n",
            "9\n",
            "10\n"
          ]
        }
      ]
    },
    {
      "cell_type": "code",
      "source": [
        "#Homework question in class by ajay sir( i just  tried)\n",
        "for a in range (1,5):\n",
        "  print(\"*\",\"\", \"*\",\"\",\"*\")\n"
      ],
      "metadata": {
        "colab": {
          "base_uri": "https://localhost:8080/"
        },
        "id": "JUGV8sS4Znic",
        "outputId": "fa2b769a-abdc-4054-d21f-5cd6f7ec799e"
      },
      "execution_count": null,
      "outputs": [
        {
          "output_type": "stream",
          "name": "stdout",
          "text": [
            "*  *  *\n",
            "*  *  *\n",
            "*  *  *\n",
            "*  *  *\n"
          ]
        }
      ]
    },
    {
      "cell_type": "code",
      "source": [
        "#Homework question in class by ajay sir( i just  tried)\n",
        "for b in range(1,6):\n",
        "  print(\"*\" *b)"
      ],
      "metadata": {
        "colab": {
          "base_uri": "https://localhost:8080/"
        },
        "id": "N4wp4KtRZraD",
        "outputId": "0c09ebd6-e040-4a24-efb8-75a13a56a08a"
      },
      "execution_count": null,
      "outputs": [
        {
          "output_type": "stream",
          "name": "stdout",
          "text": [
            "*\n",
            "**\n",
            "***\n",
            "****\n",
            "*****\n"
          ]
        }
      ]
    },
    {
      "cell_type": "code",
      "source": [
        "#13. Write a Python program to find the sum of all even numbers between 1 and 50.\n",
        "sum_even = 0\n",
        "for a in range(1,51):\n",
        " if a % 2 == 0:\n",
        "   print(a)\n",
        "   sum_even=sum_even+a # or we can write sumeven += a(number)\n",
        "print(\"sum of the  numbers :\", sum_even)"
      ],
      "metadata": {
        "colab": {
          "base_uri": "https://localhost:8080/"
        },
        "id": "2B9w9XxNZuQ-",
        "outputId": "3abc4301-5afa-47e7-f2e0-da76acd496d4"
      },
      "execution_count": null,
      "outputs": [
        {
          "output_type": "stream",
          "name": "stdout",
          "text": [
            "2\n",
            "4\n",
            "6\n",
            "8\n",
            "10\n",
            "12\n",
            "14\n",
            "16\n",
            "18\n",
            "20\n",
            "22\n",
            "24\n",
            "26\n",
            "28\n",
            "30\n",
            "32\n",
            "34\n",
            "36\n",
            "38\n",
            "40\n",
            "42\n",
            "44\n",
            "46\n",
            "48\n",
            "50\n",
            "sum of the  numbers : 650\n"
          ]
        }
      ]
    },
    {
      "cell_type": "code",
      "source": [
        "#14. Write a program to reverse a string using a while loop.\n",
        "\n",
        "#i dont think so this type of logics is covered under in study material"
      ],
      "metadata": {
        "id": "zRze20dtZx0u"
      },
      "execution_count": null,
      "outputs": []
    },
    {
      "cell_type": "code",
      "source": [
        "#15. Write a Python program to calculate the factorial of a number provided by the user using a while loop.\n",
        "number = int(input(\"Enter a number: \"))\n",
        "\n",
        "# Initialize variables\n",
        "factorial = 1\n",
        "count = 1\n",
        "\n",
        "# Calculate factorial using while loop\n",
        "while count <= number:\n",
        "    factorial *= count\n",
        "    count += 1\n",
        "\n",
        "# Print the factorial\n",
        "print(f\"Factorial of {number} is {factorial}\")"
      ],
      "metadata": {
        "colab": {
          "base_uri": "https://localhost:8080/"
        },
        "id": "WJnm6gRXZ1AU",
        "outputId": "6fb4db94-4557-4397-8d69-d006c41bdaeb"
      },
      "execution_count": null,
      "outputs": [
        {
          "output_type": "stream",
          "name": "stdout",
          "text": [
            "Enter a number: 10\n",
            "Factorial of 10 is 3628800\n"
          ]
        }
      ]
    },
    {
      "cell_type": "markdown",
      "source": [
        "Theortical -\n",
        "\n",
        "1.What is Python, and why is it popular?\n",
        "Ans - Python is a high-level, easy-to-read programming language used for web development, automation, data analysis, AI, and more.\n",
        "\n",
        "It’s popular because:\n",
        "\n",
        "It has simple, English-like syntax\n",
        "\n",
        "It’s beginner-friendly\n",
        "\n",
        "It has a huge collection of libraries and community support\n",
        "\n",
        "2.What is an interpreter in Python?\n",
        "Ans - An interpreter is a program that reads and runs Python code line by line. It helps catch errors quickly and makes debugging easier.\n",
        "\n",
        "3.What are pre-defined keywords in Python?\n",
        "Ans - Pre-defined keywords are special reserved words in Python that have specific meanings. Examples: if, else, while, for, True, False, def, etc.They are used to write program logic and structure.\n",
        "\n",
        "4.Can keywords be used as variable names?\n",
        "Ans - No, keywords cannot be used as variable names.For example, if = 10 is not allowed because if is a keyword.\n",
        "\n",
        "5.What is mutability in Python?\n",
        "Ans - Mutability means whether a value can be changed after it's created.\n",
        "\n",
        "Mutable = can change (like lists)\n",
        "\n",
        "Immutable = cannot change (like strings and tuples)\n",
        "\n",
        "6.Why are lists mutable, but tuples are immutable?\n",
        "Ans - Lists are designed to be flexible — you can add, remove, or change elements.Tuples are fixed and used when data should not be changed — for safety and faster performance.\n",
        "\n",
        "7.What is the difference between == and is operators in Python?\n",
        "== checks if values are equal is checks if both variables point to the same object in memory\n",
        "\n",
        "Example:\n",
        "\n",
        "a = [1, 2] b = [1, 2] a == b # True\n",
        "a is b # False (different memory)\n",
        "\n",
        "8.What are logical operators in Python?\n",
        "Ans - Logical operators are used to combine multiple conditions:\n",
        "\n",
        "and → True if both conditions are True\n",
        "\n",
        "or → True if at least one condition is True\n",
        "\n",
        "not → reverses the result (True becomes False)\n",
        "\n",
        "9.What is type casting in Python?\n",
        "Ans - Type casting means changing a variable from one data type to another.\n",
        "\n",
        "Example:\n",
        "\n",
        "a = \"10\" b = int(a) # String converted to integer\n",
        "\n",
        "10.What is the difference between implicit and explicit type casting?\n",
        "Ans -\n",
        "\n",
        "Implicit: Python automatically converts the type\n",
        "\n",
        "Example: 3 + 4.0 → result is 7.0 (int + float = float)\n",
        "\n",
        "Explicit: You manually convert the type\n",
        "\n",
        "Example: int(\"5\") → turns string \"5\" into number 5\n",
        "\n",
        "11.What is the purpose of conditional statements in Python?\n",
        "Ans - Conditional statements (if, else, elif) allow you to run different code based on different conditions. They help decision-making in a program.\n",
        "\n",
        "12.How does the elif statement work?\n",
        "Ans - elif stands for \"else if\" — it checks another condition if the previous if condition was False.You can use many elif blocks in one program.\n",
        "\n",
        "Example:\n",
        "\n",
        "x = 10 if x < 5: print(\"Less than 5\") elif x == 10: print(\"Equal to 10\") else: print(\"Something else\")\n",
        "\n",
        "13.What is the difference between for and while loops?\n",
        "Ans -\n",
        "\n",
        "for loop: Used when you know how many times to repeat\n",
        "\n",
        "while loop: Used when you don’t know how many times — it runs as long as a condition is True\n",
        "\n",
        "14.Describe a scenario where a while loop is more suitable than a for loop.\n",
        "Ans - Example: Asking the user to enter a password until it’s correct.We don’t know how many tries it will take, so we use a while loop.\n",
        "\n",
        "password = \"\" while password != \"1234\": password = input(\"Enter password: \")\n",
        "\n",
        "print(\"Access granted\")"
      ],
      "metadata": {
        "id": "Mdl33TiAaNeO"
      }
    }
  ]
}